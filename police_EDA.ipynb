{
 "cells": [
  {
   "cell_type": "code",
   "execution_count": 1,
   "id": "5516ab57",
   "metadata": {},
   "outputs": [],
   "source": [
    "import numpy as np\n",
    "import pandas as pd\n",
    "import seaborn as sns \n",
    "import matplotlib.pyplot as plt"
   ]
  },
  {
   "cell_type": "code",
   "execution_count": 2,
   "id": "9c696576",
   "metadata": {},
   "outputs": [
    {
     "data": {
      "text/html": [
       "<div>\n",
       "<style scoped>\n",
       "    .dataframe tbody tr th:only-of-type {\n",
       "        vertical-align: middle;\n",
       "    }\n",
       "\n",
       "    .dataframe tbody tr th {\n",
       "        vertical-align: top;\n",
       "    }\n",
       "\n",
       "    .dataframe thead th {\n",
       "        text-align: right;\n",
       "    }\n",
       "</style>\n",
       "<table border=\"1\" class=\"dataframe\">\n",
       "  <thead>\n",
       "    <tr style=\"text-align: right;\">\n",
       "      <th></th>\n",
       "      <th>id</th>\n",
       "      <th>name</th>\n",
       "      <th>date</th>\n",
       "      <th>manner_of_death</th>\n",
       "      <th>armed</th>\n",
       "      <th>age</th>\n",
       "      <th>gender</th>\n",
       "      <th>race</th>\n",
       "      <th>city</th>\n",
       "      <th>state</th>\n",
       "      <th>signs_of_mental_illness</th>\n",
       "      <th>threat_level</th>\n",
       "      <th>flee</th>\n",
       "      <th>body_camera</th>\n",
       "    </tr>\n",
       "  </thead>\n",
       "  <tbody>\n",
       "    <tr>\n",
       "      <th>0</th>\n",
       "      <td>3</td>\n",
       "      <td>Tim Elliot</td>\n",
       "      <td>2015-01-02</td>\n",
       "      <td>shot</td>\n",
       "      <td>gun</td>\n",
       "      <td>53.0</td>\n",
       "      <td>M</td>\n",
       "      <td>A</td>\n",
       "      <td>Shelton</td>\n",
       "      <td>WA</td>\n",
       "      <td>True</td>\n",
       "      <td>attack</td>\n",
       "      <td>Not fleeing</td>\n",
       "      <td>False</td>\n",
       "    </tr>\n",
       "    <tr>\n",
       "      <th>1</th>\n",
       "      <td>4</td>\n",
       "      <td>Lewis Lee Lembke</td>\n",
       "      <td>2015-01-02</td>\n",
       "      <td>shot</td>\n",
       "      <td>gun</td>\n",
       "      <td>47.0</td>\n",
       "      <td>M</td>\n",
       "      <td>W</td>\n",
       "      <td>Aloha</td>\n",
       "      <td>OR</td>\n",
       "      <td>False</td>\n",
       "      <td>attack</td>\n",
       "      <td>Not fleeing</td>\n",
       "      <td>False</td>\n",
       "    </tr>\n",
       "    <tr>\n",
       "      <th>2</th>\n",
       "      <td>5</td>\n",
       "      <td>John Paul Quintero</td>\n",
       "      <td>2015-01-03</td>\n",
       "      <td>shot and Tasered</td>\n",
       "      <td>unarmed</td>\n",
       "      <td>23.0</td>\n",
       "      <td>M</td>\n",
       "      <td>H</td>\n",
       "      <td>Wichita</td>\n",
       "      <td>KS</td>\n",
       "      <td>False</td>\n",
       "      <td>other</td>\n",
       "      <td>Not fleeing</td>\n",
       "      <td>False</td>\n",
       "    </tr>\n",
       "    <tr>\n",
       "      <th>3</th>\n",
       "      <td>8</td>\n",
       "      <td>Matthew Hoffman</td>\n",
       "      <td>2015-01-04</td>\n",
       "      <td>shot</td>\n",
       "      <td>toy weapon</td>\n",
       "      <td>32.0</td>\n",
       "      <td>M</td>\n",
       "      <td>W</td>\n",
       "      <td>San Francisco</td>\n",
       "      <td>CA</td>\n",
       "      <td>True</td>\n",
       "      <td>attack</td>\n",
       "      <td>Not fleeing</td>\n",
       "      <td>False</td>\n",
       "    </tr>\n",
       "    <tr>\n",
       "      <th>4</th>\n",
       "      <td>9</td>\n",
       "      <td>Michael Rodriguez</td>\n",
       "      <td>2015-01-04</td>\n",
       "      <td>shot</td>\n",
       "      <td>nail gun</td>\n",
       "      <td>39.0</td>\n",
       "      <td>M</td>\n",
       "      <td>H</td>\n",
       "      <td>Evans</td>\n",
       "      <td>CO</td>\n",
       "      <td>False</td>\n",
       "      <td>attack</td>\n",
       "      <td>Not fleeing</td>\n",
       "      <td>False</td>\n",
       "    </tr>\n",
       "    <tr>\n",
       "      <th>...</th>\n",
       "      <td>...</td>\n",
       "      <td>...</td>\n",
       "      <td>...</td>\n",
       "      <td>...</td>\n",
       "      <td>...</td>\n",
       "      <td>...</td>\n",
       "      <td>...</td>\n",
       "      <td>...</td>\n",
       "      <td>...</td>\n",
       "      <td>...</td>\n",
       "      <td>...</td>\n",
       "      <td>...</td>\n",
       "      <td>...</td>\n",
       "      <td>...</td>\n",
       "    </tr>\n",
       "    <tr>\n",
       "      <th>5411</th>\n",
       "      <td>5921</td>\n",
       "      <td>William Slyter</td>\n",
       "      <td>2020-06-13</td>\n",
       "      <td>shot</td>\n",
       "      <td>gun</td>\n",
       "      <td>22.0</td>\n",
       "      <td>M</td>\n",
       "      <td>W</td>\n",
       "      <td>Kansas City</td>\n",
       "      <td>MO</td>\n",
       "      <td>False</td>\n",
       "      <td>other</td>\n",
       "      <td>Other</td>\n",
       "      <td>False</td>\n",
       "    </tr>\n",
       "    <tr>\n",
       "      <th>5412</th>\n",
       "      <td>5922</td>\n",
       "      <td>TK TK</td>\n",
       "      <td>2020-06-13</td>\n",
       "      <td>shot</td>\n",
       "      <td>undetermined</td>\n",
       "      <td>NaN</td>\n",
       "      <td>M</td>\n",
       "      <td>NaN</td>\n",
       "      <td>San Bernardino</td>\n",
       "      <td>CA</td>\n",
       "      <td>False</td>\n",
       "      <td>attack</td>\n",
       "      <td>Not fleeing</td>\n",
       "      <td>False</td>\n",
       "    </tr>\n",
       "    <tr>\n",
       "      <th>5413</th>\n",
       "      <td>5924</td>\n",
       "      <td>Nicholas Hirsh</td>\n",
       "      <td>2020-06-15</td>\n",
       "      <td>shot</td>\n",
       "      <td>gun</td>\n",
       "      <td>31.0</td>\n",
       "      <td>M</td>\n",
       "      <td>W</td>\n",
       "      <td>Lawrence</td>\n",
       "      <td>KS</td>\n",
       "      <td>False</td>\n",
       "      <td>attack</td>\n",
       "      <td>Car</td>\n",
       "      <td>False</td>\n",
       "    </tr>\n",
       "    <tr>\n",
       "      <th>5414</th>\n",
       "      <td>5926</td>\n",
       "      <td>TK TK</td>\n",
       "      <td>2020-06-16</td>\n",
       "      <td>shot</td>\n",
       "      <td>gun</td>\n",
       "      <td>24.0</td>\n",
       "      <td>M</td>\n",
       "      <td>NaN</td>\n",
       "      <td>Beach Park</td>\n",
       "      <td>IL</td>\n",
       "      <td>False</td>\n",
       "      <td>attack</td>\n",
       "      <td>Not fleeing</td>\n",
       "      <td>False</td>\n",
       "    </tr>\n",
       "    <tr>\n",
       "      <th>5415</th>\n",
       "      <td>5927</td>\n",
       "      <td>TK TK</td>\n",
       "      <td>2020-06-16</td>\n",
       "      <td>shot</td>\n",
       "      <td>gun</td>\n",
       "      <td>27.0</td>\n",
       "      <td>M</td>\n",
       "      <td>NaN</td>\n",
       "      <td>Phoenix</td>\n",
       "      <td>AZ</td>\n",
       "      <td>False</td>\n",
       "      <td>attack</td>\n",
       "      <td>Not fleeing</td>\n",
       "      <td>False</td>\n",
       "    </tr>\n",
       "  </tbody>\n",
       "</table>\n",
       "<p>5416 rows × 14 columns</p>\n",
       "</div>"
      ],
      "text/plain": [
       "        id                name        date   manner_of_death         armed  \\\n",
       "0        3          Tim Elliot  2015-01-02              shot           gun   \n",
       "1        4    Lewis Lee Lembke  2015-01-02              shot           gun   \n",
       "2        5  John Paul Quintero  2015-01-03  shot and Tasered       unarmed   \n",
       "3        8     Matthew Hoffman  2015-01-04              shot    toy weapon   \n",
       "4        9   Michael Rodriguez  2015-01-04              shot      nail gun   \n",
       "...    ...                 ...         ...               ...           ...   \n",
       "5411  5921      William Slyter  2020-06-13              shot           gun   \n",
       "5412  5922               TK TK  2020-06-13              shot  undetermined   \n",
       "5413  5924      Nicholas Hirsh  2020-06-15              shot           gun   \n",
       "5414  5926               TK TK  2020-06-16              shot           gun   \n",
       "5415  5927               TK TK  2020-06-16              shot           gun   \n",
       "\n",
       "       age gender race            city state  signs_of_mental_illness  \\\n",
       "0     53.0      M    A         Shelton    WA                     True   \n",
       "1     47.0      M    W           Aloha    OR                    False   \n",
       "2     23.0      M    H         Wichita    KS                    False   \n",
       "3     32.0      M    W   San Francisco    CA                     True   \n",
       "4     39.0      M    H           Evans    CO                    False   \n",
       "...    ...    ...  ...             ...   ...                      ...   \n",
       "5411  22.0      M    W     Kansas City    MO                    False   \n",
       "5412   NaN      M  NaN  San Bernardino    CA                    False   \n",
       "5413  31.0      M    W        Lawrence    KS                    False   \n",
       "5414  24.0      M  NaN      Beach Park    IL                    False   \n",
       "5415  27.0      M  NaN         Phoenix    AZ                    False   \n",
       "\n",
       "     threat_level         flee  body_camera  \n",
       "0          attack  Not fleeing        False  \n",
       "1          attack  Not fleeing        False  \n",
       "2           other  Not fleeing        False  \n",
       "3          attack  Not fleeing        False  \n",
       "4          attack  Not fleeing        False  \n",
       "...           ...          ...          ...  \n",
       "5411        other        Other        False  \n",
       "5412       attack  Not fleeing        False  \n",
       "5413       attack          Car        False  \n",
       "5414       attack  Not fleeing        False  \n",
       "5415       attack  Not fleeing        False  \n",
       "\n",
       "[5416 rows x 14 columns]"
      ]
     },
     "execution_count": 2,
     "metadata": {},
     "output_type": "execute_result"
    }
   ],
   "source": [
    "#read data\n",
    "ploice_data=pd.read_csv('fatal-police-shootings-data.csv')\n",
    "ploice_data"
   ]
  },
  {
   "cell_type": "code",
   "execution_count": 3,
   "id": "9680c6e3",
   "metadata": {},
   "outputs": [
    {
     "data": {
      "text/html": [
       "<div>\n",
       "<style scoped>\n",
       "    .dataframe tbody tr th:only-of-type {\n",
       "        vertical-align: middle;\n",
       "    }\n",
       "\n",
       "    .dataframe tbody tr th {\n",
       "        vertical-align: top;\n",
       "    }\n",
       "\n",
       "    .dataframe thead th {\n",
       "        text-align: right;\n",
       "    }\n",
       "</style>\n",
       "<table border=\"1\" class=\"dataframe\">\n",
       "  <thead>\n",
       "    <tr style=\"text-align: right;\">\n",
       "      <th></th>\n",
       "      <th>id</th>\n",
       "      <th>name</th>\n",
       "      <th>date</th>\n",
       "      <th>manner_of_death</th>\n",
       "      <th>armed</th>\n",
       "      <th>age</th>\n",
       "      <th>gender</th>\n",
       "      <th>race</th>\n",
       "      <th>city</th>\n",
       "      <th>state</th>\n",
       "      <th>signs_of_mental_illness</th>\n",
       "      <th>threat_level</th>\n",
       "      <th>flee</th>\n",
       "      <th>body_camera</th>\n",
       "    </tr>\n",
       "  </thead>\n",
       "  <tbody>\n",
       "    <tr>\n",
       "      <th>0</th>\n",
       "      <td>3</td>\n",
       "      <td>Tim Elliot</td>\n",
       "      <td>2015-01-02</td>\n",
       "      <td>shot</td>\n",
       "      <td>gun</td>\n",
       "      <td>53.0</td>\n",
       "      <td>M</td>\n",
       "      <td>A</td>\n",
       "      <td>Shelton</td>\n",
       "      <td>WA</td>\n",
       "      <td>True</td>\n",
       "      <td>attack</td>\n",
       "      <td>Not fleeing</td>\n",
       "      <td>False</td>\n",
       "    </tr>\n",
       "    <tr>\n",
       "      <th>1</th>\n",
       "      <td>4</td>\n",
       "      <td>Lewis Lee Lembke</td>\n",
       "      <td>2015-01-02</td>\n",
       "      <td>shot</td>\n",
       "      <td>gun</td>\n",
       "      <td>47.0</td>\n",
       "      <td>M</td>\n",
       "      <td>W</td>\n",
       "      <td>Aloha</td>\n",
       "      <td>OR</td>\n",
       "      <td>False</td>\n",
       "      <td>attack</td>\n",
       "      <td>Not fleeing</td>\n",
       "      <td>False</td>\n",
       "    </tr>\n",
       "    <tr>\n",
       "      <th>2</th>\n",
       "      <td>5</td>\n",
       "      <td>John Paul Quintero</td>\n",
       "      <td>2015-01-03</td>\n",
       "      <td>shot and Tasered</td>\n",
       "      <td>unarmed</td>\n",
       "      <td>23.0</td>\n",
       "      <td>M</td>\n",
       "      <td>H</td>\n",
       "      <td>Wichita</td>\n",
       "      <td>KS</td>\n",
       "      <td>False</td>\n",
       "      <td>other</td>\n",
       "      <td>Not fleeing</td>\n",
       "      <td>False</td>\n",
       "    </tr>\n",
       "    <tr>\n",
       "      <th>3</th>\n",
       "      <td>8</td>\n",
       "      <td>Matthew Hoffman</td>\n",
       "      <td>2015-01-04</td>\n",
       "      <td>shot</td>\n",
       "      <td>toy weapon</td>\n",
       "      <td>32.0</td>\n",
       "      <td>M</td>\n",
       "      <td>W</td>\n",
       "      <td>San Francisco</td>\n",
       "      <td>CA</td>\n",
       "      <td>True</td>\n",
       "      <td>attack</td>\n",
       "      <td>Not fleeing</td>\n",
       "      <td>False</td>\n",
       "    </tr>\n",
       "    <tr>\n",
       "      <th>4</th>\n",
       "      <td>9</td>\n",
       "      <td>Michael Rodriguez</td>\n",
       "      <td>2015-01-04</td>\n",
       "      <td>shot</td>\n",
       "      <td>nail gun</td>\n",
       "      <td>39.0</td>\n",
       "      <td>M</td>\n",
       "      <td>H</td>\n",
       "      <td>Evans</td>\n",
       "      <td>CO</td>\n",
       "      <td>False</td>\n",
       "      <td>attack</td>\n",
       "      <td>Not fleeing</td>\n",
       "      <td>False</td>\n",
       "    </tr>\n",
       "  </tbody>\n",
       "</table>\n",
       "</div>"
      ],
      "text/plain": [
       "   id                name        date   manner_of_death       armed   age  \\\n",
       "0   3          Tim Elliot  2015-01-02              shot         gun  53.0   \n",
       "1   4    Lewis Lee Lembke  2015-01-02              shot         gun  47.0   \n",
       "2   5  John Paul Quintero  2015-01-03  shot and Tasered     unarmed  23.0   \n",
       "3   8     Matthew Hoffman  2015-01-04              shot  toy weapon  32.0   \n",
       "4   9   Michael Rodriguez  2015-01-04              shot    nail gun  39.0   \n",
       "\n",
       "  gender race           city state  signs_of_mental_illness threat_level  \\\n",
       "0      M    A        Shelton    WA                     True       attack   \n",
       "1      M    W          Aloha    OR                    False       attack   \n",
       "2      M    H        Wichita    KS                    False        other   \n",
       "3      M    W  San Francisco    CA                     True       attack   \n",
       "4      M    H          Evans    CO                    False       attack   \n",
       "\n",
       "          flee  body_camera  \n",
       "0  Not fleeing        False  \n",
       "1  Not fleeing        False  \n",
       "2  Not fleeing        False  \n",
       "3  Not fleeing        False  \n",
       "4  Not fleeing        False  "
      ]
     },
     "execution_count": 3,
     "metadata": {},
     "output_type": "execute_result"
    }
   ],
   "source": [
    "ploice_data.head()"
   ]
  },
  {
   "cell_type": "code",
   "execution_count": 4,
   "id": "c1ba125a",
   "metadata": {},
   "outputs": [
    {
     "name": "stdout",
     "output_type": "stream",
     "text": [
      "<class 'pandas.core.frame.DataFrame'>\n",
      "RangeIndex: 5416 entries, 0 to 5415\n",
      "Data columns (total 14 columns):\n",
      " #   Column                   Non-Null Count  Dtype  \n",
      "---  ------                   --------------  -----  \n",
      " 0   id                       5416 non-null   int64  \n",
      " 1   name                     5416 non-null   object \n",
      " 2   date                     5416 non-null   object \n",
      " 3   manner_of_death          5416 non-null   object \n",
      " 4   armed                    5189 non-null   object \n",
      " 5   age                      5181 non-null   float64\n",
      " 6   gender                   5414 non-null   object \n",
      " 7   race                     4895 non-null   object \n",
      " 8   city                     5416 non-null   object \n",
      " 9   state                    5416 non-null   object \n",
      " 10  signs_of_mental_illness  5416 non-null   bool   \n",
      " 11  threat_level             5416 non-null   object \n",
      " 12  flee                     5167 non-null   object \n",
      " 13  body_camera              5416 non-null   bool   \n",
      "dtypes: bool(2), float64(1), int64(1), object(10)\n",
      "memory usage: 518.5+ KB\n"
     ]
    }
   ],
   "source": [
    "ploice_data.info()"
   ]
  },
  {
   "cell_type": "markdown",
   "id": "873881f3",
   "metadata": {},
   "source": [
    "# cleaning data"
   ]
  },
  {
   "cell_type": "code",
   "execution_count": 5,
   "id": "990daaa5",
   "metadata": {},
   "outputs": [
    {
     "data": {
      "text/plain": [
       "race                       521\n",
       "flee                       249\n",
       "age                        235\n",
       "armed                      227\n",
       "gender                       2\n",
       "id                           0\n",
       "name                         0\n",
       "date                         0\n",
       "manner_of_death              0\n",
       "city                         0\n",
       "state                        0\n",
       "signs_of_mental_illness      0\n",
       "threat_level                 0\n",
       "body_camera                  0\n",
       "dtype: int64"
      ]
     },
     "execution_count": 5,
     "metadata": {},
     "output_type": "execute_result"
    }
   ],
   "source": [
    "ploice_data.isnull().sum().sort_values(ascending = False)"
   ]
  },
  {
   "cell_type": "code",
   "execution_count": 6,
   "id": "1bb6e381",
   "metadata": {},
   "outputs": [],
   "source": [
    "ploice_data[\"race\"].fillna(\"unknown\", inplace = True)"
   ]
  },
  {
   "cell_type": "code",
   "execution_count": 7,
   "id": "987c28fb",
   "metadata": {},
   "outputs": [
    {
     "data": {
      "text/plain": [
       "flee                       249\n",
       "age                        235\n",
       "armed                      227\n",
       "gender                       2\n",
       "id                           0\n",
       "name                         0\n",
       "date                         0\n",
       "manner_of_death              0\n",
       "race                         0\n",
       "city                         0\n",
       "state                        0\n",
       "signs_of_mental_illness      0\n",
       "threat_level                 0\n",
       "body_camera                  0\n",
       "dtype: int64"
      ]
     },
     "execution_count": 7,
     "metadata": {},
     "output_type": "execute_result"
    }
   ],
   "source": [
    "ploice_data.isnull().sum().sort_values(ascending = False)"
   ]
  },
  {
   "cell_type": "code",
   "execution_count": 8,
   "id": "685d1c17",
   "metadata": {},
   "outputs": [],
   "source": [
    "ploice_data[\"flee\"].fillna(\"unknown\", inplace = True)\n"
   ]
  },
  {
   "cell_type": "code",
   "execution_count": 9,
   "id": "50472d7b",
   "metadata": {},
   "outputs": [
    {
     "data": {
      "text/plain": [
       "age                        235\n",
       "armed                      227\n",
       "gender                       2\n",
       "id                           0\n",
       "name                         0\n",
       "date                         0\n",
       "manner_of_death              0\n",
       "race                         0\n",
       "city                         0\n",
       "state                        0\n",
       "signs_of_mental_illness      0\n",
       "threat_level                 0\n",
       "flee                         0\n",
       "body_camera                  0\n",
       "dtype: int64"
      ]
     },
     "execution_count": 9,
     "metadata": {},
     "output_type": "execute_result"
    }
   ],
   "source": [
    "ploice_data.isnull().sum().sort_values(ascending = False)"
   ]
  },
  {
   "cell_type": "code",
   "execution_count": 10,
   "id": "cffb372d",
   "metadata": {},
   "outputs": [],
   "source": [
    "ploice_data[\"age\"].fillna(\"unKnown\", inplace = True)"
   ]
  },
  {
   "cell_type": "code",
   "execution_count": 11,
   "id": "70446e92",
   "metadata": {},
   "outputs": [
    {
     "data": {
      "text/plain": [
       "armed                      227\n",
       "gender                       2\n",
       "id                           0\n",
       "name                         0\n",
       "date                         0\n",
       "manner_of_death              0\n",
       "age                          0\n",
       "race                         0\n",
       "city                         0\n",
       "state                        0\n",
       "signs_of_mental_illness      0\n",
       "threat_level                 0\n",
       "flee                         0\n",
       "body_camera                  0\n",
       "dtype: int64"
      ]
     },
     "execution_count": 11,
     "metadata": {},
     "output_type": "execute_result"
    }
   ],
   "source": [
    "ploice_data.isnull().sum().sort_values(ascending = False)"
   ]
  },
  {
   "cell_type": "code",
   "execution_count": 12,
   "id": "a5239f50",
   "metadata": {},
   "outputs": [],
   "source": [
    "ploice_data[\"armed\"].fillna(\"unKnown\", inplace = True)"
   ]
  },
  {
   "cell_type": "code",
   "execution_count": 13,
   "id": "c76f5048",
   "metadata": {},
   "outputs": [
    {
     "data": {
      "text/plain": [
       "gender                     2\n",
       "id                         0\n",
       "name                       0\n",
       "date                       0\n",
       "manner_of_death            0\n",
       "armed                      0\n",
       "age                        0\n",
       "race                       0\n",
       "city                       0\n",
       "state                      0\n",
       "signs_of_mental_illness    0\n",
       "threat_level               0\n",
       "flee                       0\n",
       "body_camera                0\n",
       "dtype: int64"
      ]
     },
     "execution_count": 13,
     "metadata": {},
     "output_type": "execute_result"
    }
   ],
   "source": [
    "ploice_data.isnull().sum().sort_values(ascending = False)"
   ]
  },
  {
   "cell_type": "code",
   "execution_count": 14,
   "id": "35edcf68",
   "metadata": {},
   "outputs": [
    {
     "data": {
      "text/plain": [
       "'M'"
      ]
     },
     "execution_count": 14,
     "metadata": {},
     "output_type": "execute_result"
    }
   ],
   "source": [
    "gender_mod=ploice_data.gender.mode()[0]\n",
    "gender_mod"
   ]
  },
  {
   "cell_type": "code",
   "execution_count": 15,
   "id": "02489def",
   "metadata": {},
   "outputs": [],
   "source": [
    "#no of male is more than female we replace two values with male\n",
    "ploice_data[\"gender\"].fillna(\"M\", inplace = True)"
   ]
  },
  {
   "cell_type": "code",
   "execution_count": 16,
   "id": "fbf99195",
   "metadata": {},
   "outputs": [
    {
     "data": {
      "text/plain": [
       "id                         0\n",
       "name                       0\n",
       "date                       0\n",
       "manner_of_death            0\n",
       "armed                      0\n",
       "age                        0\n",
       "gender                     0\n",
       "race                       0\n",
       "city                       0\n",
       "state                      0\n",
       "signs_of_mental_illness    0\n",
       "threat_level               0\n",
       "flee                       0\n",
       "body_camera                0\n",
       "dtype: int64"
      ]
     },
     "execution_count": 16,
     "metadata": {},
     "output_type": "execute_result"
    }
   ],
   "source": [
    "ploice_data.isnull().sum().sort_values(ascending = False)"
   ]
  },
  {
   "cell_type": "markdown",
   "id": "3b91d4c8",
   "metadata": {},
   "source": [
    "# EDA for police dataset"
   ]
  },
  {
   "cell_type": "code",
   "execution_count": 17,
   "id": "904fa645",
   "metadata": {},
   "outputs": [
    {
     "data": {
      "text/html": [
       "<div>\n",
       "<style scoped>\n",
       "    .dataframe tbody tr th:only-of-type {\n",
       "        vertical-align: middle;\n",
       "    }\n",
       "\n",
       "    .dataframe tbody tr th {\n",
       "        vertical-align: top;\n",
       "    }\n",
       "\n",
       "    .dataframe thead th {\n",
       "        text-align: right;\n",
       "    }\n",
       "</style>\n",
       "<table border=\"1\" class=\"dataframe\">\n",
       "  <thead>\n",
       "    <tr style=\"text-align: right;\">\n",
       "      <th></th>\n",
       "      <th>id</th>\n",
       "      <th>name</th>\n",
       "      <th>date</th>\n",
       "      <th>manner_of_death</th>\n",
       "      <th>armed</th>\n",
       "      <th>age</th>\n",
       "      <th>gender</th>\n",
       "      <th>race</th>\n",
       "      <th>city</th>\n",
       "      <th>state</th>\n",
       "      <th>signs_of_mental_illness</th>\n",
       "      <th>threat_level</th>\n",
       "      <th>flee</th>\n",
       "      <th>body_camera</th>\n",
       "    </tr>\n",
       "  </thead>\n",
       "  <tbody>\n",
       "    <tr>\n",
       "      <th>count</th>\n",
       "      <td>5416.000000</td>\n",
       "      <td>5416</td>\n",
       "      <td>5416</td>\n",
       "      <td>5416</td>\n",
       "      <td>5416</td>\n",
       "      <td>5416</td>\n",
       "      <td>5416</td>\n",
       "      <td>5416</td>\n",
       "      <td>5416</td>\n",
       "      <td>5416</td>\n",
       "      <td>5416</td>\n",
       "      <td>5416</td>\n",
       "      <td>5416</td>\n",
       "      <td>5416</td>\n",
       "    </tr>\n",
       "    <tr>\n",
       "      <th>unique</th>\n",
       "      <td>NaN</td>\n",
       "      <td>5206</td>\n",
       "      <td>1844</td>\n",
       "      <td>2</td>\n",
       "      <td>94</td>\n",
       "      <td>78</td>\n",
       "      <td>2</td>\n",
       "      <td>7</td>\n",
       "      <td>2470</td>\n",
       "      <td>51</td>\n",
       "      <td>2</td>\n",
       "      <td>3</td>\n",
       "      <td>5</td>\n",
       "      <td>2</td>\n",
       "    </tr>\n",
       "    <tr>\n",
       "      <th>top</th>\n",
       "      <td>NaN</td>\n",
       "      <td>TK TK</td>\n",
       "      <td>2020-05-26</td>\n",
       "      <td>shot</td>\n",
       "      <td>gun</td>\n",
       "      <td>unKnown</td>\n",
       "      <td>M</td>\n",
       "      <td>W</td>\n",
       "      <td>Los Angeles</td>\n",
       "      <td>CA</td>\n",
       "      <td>False</td>\n",
       "      <td>attack</td>\n",
       "      <td>Not fleeing</td>\n",
       "      <td>False</td>\n",
       "    </tr>\n",
       "    <tr>\n",
       "      <th>freq</th>\n",
       "      <td>NaN</td>\n",
       "      <td>187</td>\n",
       "      <td>9</td>\n",
       "      <td>5146</td>\n",
       "      <td>3060</td>\n",
       "      <td>235</td>\n",
       "      <td>5178</td>\n",
       "      <td>2476</td>\n",
       "      <td>85</td>\n",
       "      <td>799</td>\n",
       "      <td>4200</td>\n",
       "      <td>3495</td>\n",
       "      <td>3411</td>\n",
       "      <td>4798</td>\n",
       "    </tr>\n",
       "    <tr>\n",
       "      <th>mean</th>\n",
       "      <td>3010.398264</td>\n",
       "      <td>NaN</td>\n",
       "      <td>NaN</td>\n",
       "      <td>NaN</td>\n",
       "      <td>NaN</td>\n",
       "      <td>NaN</td>\n",
       "      <td>NaN</td>\n",
       "      <td>NaN</td>\n",
       "      <td>NaN</td>\n",
       "      <td>NaN</td>\n",
       "      <td>NaN</td>\n",
       "      <td>NaN</td>\n",
       "      <td>NaN</td>\n",
       "      <td>NaN</td>\n",
       "    </tr>\n",
       "    <tr>\n",
       "      <th>std</th>\n",
       "      <td>1695.786456</td>\n",
       "      <td>NaN</td>\n",
       "      <td>NaN</td>\n",
       "      <td>NaN</td>\n",
       "      <td>NaN</td>\n",
       "      <td>NaN</td>\n",
       "      <td>NaN</td>\n",
       "      <td>NaN</td>\n",
       "      <td>NaN</td>\n",
       "      <td>NaN</td>\n",
       "      <td>NaN</td>\n",
       "      <td>NaN</td>\n",
       "      <td>NaN</td>\n",
       "      <td>NaN</td>\n",
       "    </tr>\n",
       "    <tr>\n",
       "      <th>min</th>\n",
       "      <td>3.000000</td>\n",
       "      <td>NaN</td>\n",
       "      <td>NaN</td>\n",
       "      <td>NaN</td>\n",
       "      <td>NaN</td>\n",
       "      <td>NaN</td>\n",
       "      <td>NaN</td>\n",
       "      <td>NaN</td>\n",
       "      <td>NaN</td>\n",
       "      <td>NaN</td>\n",
       "      <td>NaN</td>\n",
       "      <td>NaN</td>\n",
       "      <td>NaN</td>\n",
       "      <td>NaN</td>\n",
       "    </tr>\n",
       "    <tr>\n",
       "      <th>25%</th>\n",
       "      <td>1545.750000</td>\n",
       "      <td>NaN</td>\n",
       "      <td>NaN</td>\n",
       "      <td>NaN</td>\n",
       "      <td>NaN</td>\n",
       "      <td>NaN</td>\n",
       "      <td>NaN</td>\n",
       "      <td>NaN</td>\n",
       "      <td>NaN</td>\n",
       "      <td>NaN</td>\n",
       "      <td>NaN</td>\n",
       "      <td>NaN</td>\n",
       "      <td>NaN</td>\n",
       "      <td>NaN</td>\n",
       "    </tr>\n",
       "    <tr>\n",
       "      <th>50%</th>\n",
       "      <td>3009.500000</td>\n",
       "      <td>NaN</td>\n",
       "      <td>NaN</td>\n",
       "      <td>NaN</td>\n",
       "      <td>NaN</td>\n",
       "      <td>NaN</td>\n",
       "      <td>NaN</td>\n",
       "      <td>NaN</td>\n",
       "      <td>NaN</td>\n",
       "      <td>NaN</td>\n",
       "      <td>NaN</td>\n",
       "      <td>NaN</td>\n",
       "      <td>NaN</td>\n",
       "      <td>NaN</td>\n",
       "    </tr>\n",
       "    <tr>\n",
       "      <th>75%</th>\n",
       "      <td>4486.250000</td>\n",
       "      <td>NaN</td>\n",
       "      <td>NaN</td>\n",
       "      <td>NaN</td>\n",
       "      <td>NaN</td>\n",
       "      <td>NaN</td>\n",
       "      <td>NaN</td>\n",
       "      <td>NaN</td>\n",
       "      <td>NaN</td>\n",
       "      <td>NaN</td>\n",
       "      <td>NaN</td>\n",
       "      <td>NaN</td>\n",
       "      <td>NaN</td>\n",
       "      <td>NaN</td>\n",
       "    </tr>\n",
       "    <tr>\n",
       "      <th>max</th>\n",
       "      <td>5927.000000</td>\n",
       "      <td>NaN</td>\n",
       "      <td>NaN</td>\n",
       "      <td>NaN</td>\n",
       "      <td>NaN</td>\n",
       "      <td>NaN</td>\n",
       "      <td>NaN</td>\n",
       "      <td>NaN</td>\n",
       "      <td>NaN</td>\n",
       "      <td>NaN</td>\n",
       "      <td>NaN</td>\n",
       "      <td>NaN</td>\n",
       "      <td>NaN</td>\n",
       "      <td>NaN</td>\n",
       "    </tr>\n",
       "  </tbody>\n",
       "</table>\n",
       "</div>"
      ],
      "text/plain": [
       "                 id   name        date manner_of_death armed      age gender  \\\n",
       "count   5416.000000   5416        5416            5416  5416     5416   5416   \n",
       "unique          NaN   5206        1844               2    94       78      2   \n",
       "top             NaN  TK TK  2020-05-26            shot   gun  unKnown      M   \n",
       "freq            NaN    187           9            5146  3060      235   5178   \n",
       "mean    3010.398264    NaN         NaN             NaN   NaN      NaN    NaN   \n",
       "std     1695.786456    NaN         NaN             NaN   NaN      NaN    NaN   \n",
       "min        3.000000    NaN         NaN             NaN   NaN      NaN    NaN   \n",
       "25%     1545.750000    NaN         NaN             NaN   NaN      NaN    NaN   \n",
       "50%     3009.500000    NaN         NaN             NaN   NaN      NaN    NaN   \n",
       "75%     4486.250000    NaN         NaN             NaN   NaN      NaN    NaN   \n",
       "max     5927.000000    NaN         NaN             NaN   NaN      NaN    NaN   \n",
       "\n",
       "        race         city state signs_of_mental_illness threat_level  \\\n",
       "count   5416         5416  5416                    5416         5416   \n",
       "unique     7         2470    51                       2            3   \n",
       "top        W  Los Angeles    CA                   False       attack   \n",
       "freq    2476           85   799                    4200         3495   \n",
       "mean     NaN          NaN   NaN                     NaN          NaN   \n",
       "std      NaN          NaN   NaN                     NaN          NaN   \n",
       "min      NaN          NaN   NaN                     NaN          NaN   \n",
       "25%      NaN          NaN   NaN                     NaN          NaN   \n",
       "50%      NaN          NaN   NaN                     NaN          NaN   \n",
       "75%      NaN          NaN   NaN                     NaN          NaN   \n",
       "max      NaN          NaN   NaN                     NaN          NaN   \n",
       "\n",
       "               flee body_camera  \n",
       "count          5416        5416  \n",
       "unique            5           2  \n",
       "top     Not fleeing       False  \n",
       "freq           3411        4798  \n",
       "mean            NaN         NaN  \n",
       "std             NaN         NaN  \n",
       "min             NaN         NaN  \n",
       "25%             NaN         NaN  \n",
       "50%             NaN         NaN  \n",
       "75%             NaN         NaN  \n",
       "max             NaN         NaN  "
      ]
     },
     "execution_count": 17,
     "metadata": {},
     "output_type": "execute_result"
    }
   ],
   "source": [
    "ploice_data.describe(include='all')"
   ]
  },
  {
   "cell_type": "code",
   "execution_count": 18,
   "id": "180d5d7d",
   "metadata": {},
   "outputs": [
    {
     "data": {
      "text/plain": [
       "<AxesSubplot:ylabel='gender'>"
      ]
     },
     "execution_count": 18,
     "metadata": {},
     "output_type": "execute_result"
    },
    {
     "data": {
      "image/png": "[encoded data removed]",
      "text/plain": [
       "<Figure size 432x288 with 1 Axes>"
      ]
     },
     "metadata": {},
     "output_type": "display_data"
    }
   ],
   "source": [
    "ploice_data.gender.value_counts(normalize=True).plot.pie()"
   ]
  },
  {
   "cell_type": "code",
   "execution_count": 19,
   "id": "a23897a6",
   "metadata": {},
   "outputs": [
    {
     "data": {
      "text/plain": [
       "<AxesSubplot:xlabel='gender', ylabel='Count'>"
      ]
     },
     "execution_count": 19,
     "metadata": {},
     "output_type": "execute_result"
    },
    {
     "data": {
      "image/png": "[encoded data removed]",
      "text/plain": [
       "<Figure size 432x288 with 1 Axes>"
      ]
     },
     "metadata": {
      "needs_background": "light"
     },
     "output_type": "display_data"
    }
   ],
   "source": [
    "sns.histplot(ploice_data['gender'])\n"
   ]
  },
  {
   "cell_type": "code",
   "execution_count": 20,
   "id": "9e726aba",
   "metadata": {},
   "outputs": [
    {
     "data": {
      "text/plain": [
       "M    5178\n",
       "F     238\n",
       "Name: gender, dtype: int64"
      ]
     },
     "execution_count": 20,
     "metadata": {},
     "output_type": "execute_result"
    }
   ],
   "source": [
    "No_of_shot_per_gender=ploice_data['gender'].value_counts()\n",
    "No_of_shot_per_gender"
   ]
  },
  {
   "cell_type": "markdown",
   "id": "ef7f212a",
   "metadata": {},
   "source": [
    " No of shooted male more than female"
   ]
  },
  {
   "cell_type": "code",
   "execution_count": 21,
   "id": "ab156e32",
   "metadata": {},
   "outputs": [
    {
     "data": {
      "text/plain": [
       "<AxesSubplot:ylabel='manner_of_death'>"
      ]
     },
     "execution_count": 21,
     "metadata": {},
     "output_type": "execute_result"
    },
    {
     "data": {
      "image/png": "[encoded data removed]",
      "text/plain": [
       "<Figure size 432x288 with 1 Axes>"
      ]
     },
     "metadata": {},
     "output_type": "display_data"
    }
   ],
   "source": [
    "ploice_data.manner_of_death.value_counts(normalize=True).plot.pie()"
   ]
  },
  {
   "cell_type": "code",
   "execution_count": 22,
   "id": "48b7c577",
   "metadata": {},
   "outputs": [
    {
     "data": {
      "text/plain": [
       "<AxesSubplot:xlabel='manner_of_death', ylabel='Count'>"
      ]
     },
     "execution_count": 22,
     "metadata": {},
     "output_type": "execute_result"
    },
    {
     "data": {
      "image/png": "[encoded data removed]",
      "text/plain": [
       "<Figure size 432x288 with 1 Axes>"
      ]
     },
     "metadata": {
      "needs_background": "light"
     },
     "output_type": "display_data"
    }
   ],
   "source": [
    "sns.histplot(ploice_data['manner_of_death'])\n"
   ]
  },
  {
   "cell_type": "code",
   "execution_count": 23,
   "id": "638562d6",
   "metadata": {},
   "outputs": [],
   "source": [
    "#total number of death with shot\n",
    "ploice_data['manner_of_death_rate']=np.where(ploice_data.manner_of_death=='shot', 1, 0)\n"
   ]
  },
  {
   "cell_type": "code",
   "execution_count": 24,
   "id": "d765bf52",
   "metadata": {},
   "outputs": [
    {
     "data": {
      "text/plain": [
       "1    5146\n",
       "0     270\n",
       "Name: manner_of_death_rate, dtype: int64"
      ]
     },
     "execution_count": 24,
     "metadata": {},
     "output_type": "execute_result"
    }
   ],
   "source": [
    "ploice_data.manner_of_death_rate.value_counts()"
   ]
  },
  {
   "cell_type": "markdown",
   "id": "5d28ec42",
   "metadata": {},
   "source": [
    "number of shooted people without teasered is more than people shooted and tasered"
   ]
  },
  {
   "cell_type": "code",
   "execution_count": 25,
   "id": "9ac95304",
   "metadata": {},
   "outputs": [
    {
     "data": {
      "text/plain": [
       "<AxesSubplot:ylabel='signs_of_mental_illness'>"
      ]
     },
     "execution_count": 25,
     "metadata": {},
     "output_type": "execute_result"
    },
    {
     "data": {
      "image/png": "[encoded data removed]",
      "text/plain": [
       "<Figure size 432x288 with 1 Axes>"
      ]
     },
     "metadata": {},
     "output_type": "display_data"
    }
   ],
   "source": [
    "ploice_data.signs_of_mental_illness.value_counts(normalize=True).plot.pie()"
   ]
  },
  {
   "cell_type": "markdown",
   "id": "64089f36",
   "metadata": {},
   "source": [
    "Most shooted people has no signs of mental illness"
   ]
  },
  {
   "cell_type": "code",
   "execution_count": 26,
   "id": "ed741bb6",
   "metadata": {},
   "outputs": [
    {
     "data": {
      "text/plain": [
       "<AxesSubplot:ylabel='threat_level'>"
      ]
     },
     "execution_count": 26,
     "metadata": {},
     "output_type": "execute_result"
    },
    {
     "data": {
      "image/png": "[encoded data removed]",
      "text/plain": [
       "<Figure size 432x288 with 1 Axes>"
      ]
     },
     "metadata": {},
     "output_type": "display_data"
    }
   ],
   "source": [
    "ploice_data.threat_level.value_counts(normalize=True).plot.pie()"
   ]
  },
  {
   "cell_type": "code",
   "execution_count": 27,
   "id": "bba75c10",
   "metadata": {},
   "outputs": [],
   "source": [
    "#total number of threat_level=attack\n",
    "ploice_data['threat_level_rate']=np.where(ploice_data.threat_level=='attack', 1, 0)\n"
   ]
  },
  {
   "cell_type": "code",
   "execution_count": 28,
   "id": "c3434e54",
   "metadata": {},
   "outputs": [
    {
     "data": {
      "text/plain": [
       "1    3495\n",
       "0    1921\n",
       "Name: threat_level_rate, dtype: int64"
      ]
     },
     "execution_count": 28,
     "metadata": {},
     "output_type": "execute_result"
    }
   ],
   "source": [
    "ploice_data.threat_level_rate.value_counts()"
   ]
  },
  {
   "cell_type": "code",
   "execution_count": 29,
   "id": "6df28f6a",
   "metadata": {},
   "outputs": [
    {
     "data": {
      "text/plain": [
       "<AxesSubplot:ylabel='flee'>"
      ]
     },
     "execution_count": 29,
     "metadata": {},
     "output_type": "execute_result"
    },
    {
     "data": {
      "image/png": "[encoded data removed]",
      "text/plain": [
       "<Figure size 432x288 with 1 Axes>"
      ]
     },
     "metadata": {},
     "output_type": "display_data"
    }
   ],
   "source": [
    "ploice_data.flee.value_counts(normalize=True).plot.pie()"
   ]
  },
  {
   "cell_type": "markdown",
   "id": "b10e9f1b",
   "metadata": {},
   "source": [
    "most shooting happines with no fleeing from the person"
   ]
  },
  {
   "cell_type": "code",
   "execution_count": 30,
   "id": "d0c0dfeb",
   "metadata": {},
   "outputs": [
    {
     "data": {
      "text/plain": [
       "<AxesSubplot:ylabel='body_camera'>"
      ]
     },
     "execution_count": 30,
     "metadata": {},
     "output_type": "execute_result"
    },
    {
     "data": {
      "image/png": "[encoded data removed]",
      "text/plain": [
       "<Figure size 432x288 with 1 Axes>"
      ]
     },
     "metadata": {},
     "output_type": "display_data"
    }
   ],
   "source": [
    "ploice_data.body_camera.value_counts(normalize=True).plot.pie()"
   ]
  },
  {
   "cell_type": "markdown",
   "id": "4b1f9b49",
   "metadata": {},
   "source": [
    "most shooting has no recorded camera"
   ]
  },
  {
   "cell_type": "code",
   "execution_count": 31,
   "id": "6d4ced14",
   "metadata": {},
   "outputs": [
    {
     "data": {
      "text/plain": [
       "<AxesSubplot:xlabel='race', ylabel='Count'>"
      ]
     },
     "execution_count": 31,
     "metadata": {},
     "output_type": "execute_result"
    },
    {
     "data": {
      "image/png": "[encoded data removed]",
      "text/plain": [
       "<Figure size 432x288 with 1 Axes>"
      ]
     },
     "metadata": {
      "needs_background": "light"
     },
     "output_type": "display_data"
    }
   ],
   "source": [
    "sns.histplot(ploice_data['race'])\n"
   ]
  },
  {
   "cell_type": "code",
   "execution_count": 32,
   "id": "942477ef",
   "metadata": {},
   "outputs": [
    {
     "data": {
      "text/plain": [
       "W          2476\n",
       "B          1298\n",
       "H           902\n",
       "unknown     521\n",
       "A            93\n",
       "N            78\n",
       "O            48\n",
       "Name: race, dtype: int64"
      ]
     },
     "execution_count": 32,
     "metadata": {},
     "output_type": "execute_result"
    }
   ],
   "source": [
    "race_number=ploice_data['race'].value_counts()\n",
    "race_number"
   ]
  },
  {
   "cell_type": "markdown",
   "id": "c5245135",
   "metadata": {},
   "source": [
    "White peopel is the largest  shooted number"
   ]
  },
  {
   "cell_type": "code",
   "execution_count": 33,
   "id": "ed12b27d",
   "metadata": {},
   "outputs": [],
   "source": [
    "ploice_data['year']=ploice_data[\"date\"].apply(lambda x: x.split('-')[0])"
   ]
  },
  {
   "cell_type": "code",
   "execution_count": 34,
   "id": "96cb37c5",
   "metadata": {},
   "outputs": [
    {
     "data": {
      "text/plain": [
       "<AxesSubplot:xlabel='year', ylabel='Count'>"
      ]
     },
     "execution_count": 34,
     "metadata": {},
     "output_type": "execute_result"
    },
    {
     "data": {
      "image/png": "[encoded data removed]",
      "text/plain": [
       "<Figure size 432x288 with 1 Axes>"
      ]
     },
     "metadata": {
      "needs_background": "light"
     },
     "output_type": "display_data"
    }
   ],
   "source": [
    "sns.histplot(ploice_data['year'])\n"
   ]
  },
  {
   "cell_type": "code",
   "execution_count": 35,
   "id": "3a015083",
   "metadata": {},
   "outputs": [
    {
     "data": {
      "text/plain": [
       "2019    1002\n",
       "2015     994\n",
       "2018     991\n",
       "2017     986\n",
       "2016     962\n",
       "2020     481\n",
       "Name: year, dtype: int64"
      ]
     },
     "execution_count": 35,
     "metadata": {},
     "output_type": "execute_result"
    }
   ],
   "source": [
    "No_of_shot_per_year=ploice_data['year'].value_counts()\n",
    "No_of_shot_per_year"
   ]
  },
  {
   "cell_type": "markdown",
   "id": "2be155dc",
   "metadata": {},
   "source": [
    "in year 2019 number of shooted peopel is the highest number"
   ]
  },
  {
   "cell_type": "code",
   "execution_count": 36,
   "id": "8d33ae8b",
   "metadata": {},
   "outputs": [
    {
     "data": {
      "image/png": "[encoded data removed]",
      "text/plain": [
       "<Figure size 432x288 with 1 Axes>"
      ]
     },
     "metadata": {
      "needs_background": "light"
     },
     "output_type": "display_data"
    }
   ],
   "source": [
    "ploice_data.groupby('year')['threat_level_rate'].mean().plot.bar()\n",
    "plt.show()"
   ]
  },
  {
   "cell_type": "code",
   "execution_count": 37,
   "id": "a9f98b0f",
   "metadata": {},
   "outputs": [
    {
     "data": {
      "text/plain": [
       "gun                                 3060\n",
       "knife                                792\n",
       "unarmed                              353\n",
       "unKnown                              227\n",
       "toy weapon                           186\n",
       "                                    ... \n",
       "baseball bat and fireplace poker       1\n",
       "bow and arrow                          1\n",
       "barstool                               1\n",
       "contractor's level                     1\n",
       "cordless drill                         1\n",
       "Name: armed, Length: 94, dtype: int64"
      ]
     },
     "execution_count": 37,
     "metadata": {},
     "output_type": "execute_result"
    }
   ],
   "source": [
    "No_of_armed_used_inshots=ploice_data['armed'].value_counts()\n",
    "No_of_armed_used_inshots"
   ]
  },
  {
   "cell_type": "markdown",
   "id": "0480afbf",
   "metadata": {},
   "source": [
    "as we can see most used armed is gun then knife"
   ]
  },
  {
   "cell_type": "code",
   "execution_count": 38,
   "id": "f39a400b",
   "metadata": {},
   "outputs": [
    {
     "data": {
      "text/plain": [
       "Los Angeles         85\n",
       "Phoenix             78\n",
       "Houston             57\n",
       "Las Vegas           45\n",
       "San Antonio         43\n",
       "                    ..\n",
       "Vestavia Hills       1\n",
       "Ansonia              1\n",
       "West Burlington      1\n",
       "Brandon              1\n",
       "Lincoln Township     1\n",
       "Name: city, Length: 2470, dtype: int64"
      ]
     },
     "execution_count": 38,
     "metadata": {},
     "output_type": "execute_result"
    }
   ],
   "source": [
    "city=ploice_data['city'].value_counts()\n",
    "city"
   ]
  },
  {
   "cell_type": "markdown",
   "id": "528e248a",
   "metadata": {},
   "source": [
    "Los Angeles has the highest number of shooting people"
   ]
  },
  {
   "cell_type": "code",
   "execution_count": 39,
   "id": "7f9e2c7c",
   "metadata": {},
   "outputs": [
    {
     "data": {
      "text/plain": [
       "CA    799\n",
       "TX    481\n",
       "FL    350\n",
       "AZ    254\n",
       "CO    195\n",
       "GA    182\n",
       "OK    164\n",
       "NC    156\n",
       "OH    155\n",
       "WA    152\n",
       "MO    141\n",
       "TN    139\n",
       "LA    109\n",
       "PA    108\n",
       "NM    106\n",
       "AL    104\n",
       "IL    104\n",
       "NY    101\n",
       "NV     96\n",
       "IN     95\n",
       "VA     95\n",
       "KY     95\n",
       "WI     91\n",
       "SC     88\n",
       "OR     88\n",
       "AR     83\n",
       "MD     79\n",
       "MI     78\n",
       "NJ     68\n",
       "MS     65\n",
       "MN     61\n",
       "UT     60\n",
       "WV     54\n",
       "KS     50\n",
       "ID     42\n",
       "AK     39\n",
       "MA     35\n",
       "IA     32\n",
       "MT     31\n",
       "HI     30\n",
       "NE     24\n",
       "ME     22\n",
       "CT     21\n",
       "SD     17\n",
       "WY     14\n",
       "DE     13\n",
       "NH     13\n",
       "DC     13\n",
       "ND     11\n",
       "VT      9\n",
       "RI      4\n",
       "Name: state, dtype: int64"
      ]
     },
     "execution_count": 39,
     "metadata": {},
     "output_type": "execute_result"
    }
   ],
   "source": [
    "state=ploice_data['state'].value_counts()\n",
    "state"
   ]
  },
  {
   "cell_type": "markdown",
   "id": "9c7e9bc2",
   "metadata": {},
   "source": [
    "California has the highest number of shooting people"
   ]
  }
 ],
 "metadata": {
  "kernelspec": {
   "display_name": "Python 3",
   "language": "python",
   "name": "python3"
  },
  "language_info": {
   "codemirror_mode": {
    "name": "ipython",
    "version": 3
   },
   "file_extension": ".py",
   "mimetype": "text/x-python",
   "name": "python",
   "nbconvert_exporter": "python",
   "pygments_lexer": "ipython3",
   "version": "3.8.8"
  }
 },
 "nbformat": 4,
 "nbformat_minor": 5
}
